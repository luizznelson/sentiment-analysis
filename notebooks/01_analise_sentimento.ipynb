{
 "cells": [
  {
   "cell_type": "code",
   "execution_count": 1,
   "id": "e19946bd",
   "metadata": {},
   "outputs": [],
   "source": [
    "import pandas as pd\n",
    "from transformers import pipeline\n",
    "from tqdm.auto import tqdm"
   ]
  },
  {
   "cell_type": "code",
   "execution_count": 2,
   "id": "1fc5f74d",
   "metadata": {},
   "outputs": [
    {
     "data": {
      "text/html": [
       "<div>\n",
       "<style scoped>\n",
       "    .dataframe tbody tr th:only-of-type {\n",
       "        vertical-align: middle;\n",
       "    }\n",
       "\n",
       "    .dataframe tbody tr th {\n",
       "        vertical-align: top;\n",
       "    }\n",
       "\n",
       "    .dataframe thead th {\n",
       "        text-align: right;\n",
       "    }\n",
       "</style>\n",
       "<table border=\"1\" class=\"dataframe\">\n",
       "  <thead>\n",
       "    <tr style=\"text-align: right;\">\n",
       "      <th></th>\n",
       "      <th>cliente</th>\n",
       "      <th>servico</th>\n",
       "      <th>review</th>\n",
       "    </tr>\n",
       "  </thead>\n",
       "  <tbody>\n",
       "    <tr>\n",
       "      <th>0</th>\n",
       "      <td>Cliente_103</td>\n",
       "      <td>Fibra Óptica</td>\n",
       "      <td>Péssimo suporte ao cliente.</td>\n",
       "    </tr>\n",
       "    <tr>\n",
       "      <th>1</th>\n",
       "      <td>Cliente_180</td>\n",
       "      <td>TV</td>\n",
       "      <td>Ainda estou avaliando o serviço.</td>\n",
       "    </tr>\n",
       "    <tr>\n",
       "      <th>2</th>\n",
       "      <td>Cliente_093</td>\n",
       "      <td>Internet</td>\n",
       "      <td>O atendimento poderia ser melhor.</td>\n",
       "    </tr>\n",
       "    <tr>\n",
       "      <th>3</th>\n",
       "      <td>Cliente_015</td>\n",
       "      <td>Streaming</td>\n",
       "      <td>Serviço razoável, mas melhorou ultimamente.</td>\n",
       "    </tr>\n",
       "    <tr>\n",
       "      <th>4</th>\n",
       "      <td>Cliente_107</td>\n",
       "      <td>Streaming</td>\n",
       "      <td>Equipe super preparada e educada.</td>\n",
       "    </tr>\n",
       "  </tbody>\n",
       "</table>\n",
       "</div>"
      ],
      "text/plain": [
       "       cliente       servico                                       review\n",
       "0  Cliente_103  Fibra Óptica                  Péssimo suporte ao cliente.\n",
       "1  Cliente_180            TV             Ainda estou avaliando o serviço.\n",
       "2  Cliente_093      Internet            O atendimento poderia ser melhor.\n",
       "3  Cliente_015     Streaming  Serviço razoável, mas melhorou ultimamente.\n",
       "4  Cliente_107     Streaming            Equipe super preparada e educada."
      ]
     },
     "execution_count": 2,
     "metadata": {},
     "output_type": "execute_result"
    }
   ],
   "source": [
    "# Carregue a base de reviews \n",
    "df = pd.read_csv(\"../data/reviews.csv\")\n",
    "df.head()"
   ]
  },
  {
   "cell_type": "code",
   "execution_count": 3,
   "id": "e82953b7",
   "metadata": {},
   "outputs": [
    {
     "data": {
      "application/vnd.jupyter.widget-view+json": {
       "model_id": "ecb50b8daf004c2b863ba7a463907ae4",
       "version_major": 2,
       "version_minor": 0
      },
      "text/plain": [
       "model.safetensors:   0%|          | 0.00/669M [00:00<?, ?B/s]"
      ]
     },
     "metadata": {},
     "output_type": "display_data"
    },
    {
     "name": "stderr",
     "output_type": "stream",
     "text": [
      "c:\\Users\\luizz\\anaconda3\\Lib\\site-packages\\huggingface_hub\\file_download.py:143: UserWarning: `huggingface_hub` cache-system uses symlinks by default to efficiently store duplicated files but your machine does not support them in C:\\Users\\luizz\\.cache\\huggingface\\hub\\models--nlptown--bert-base-multilingual-uncased-sentiment. Caching files will still work but in a degraded version that might require more space on your disk. This warning can be disabled by setting the `HF_HUB_DISABLE_SYMLINKS_WARNING` environment variable. For more details, see https://huggingface.co/docs/huggingface_hub/how-to-cache#limitations.\n",
      "To support symlinks on Windows, you either need to activate Developer Mode or to run Python as an administrator. In order to activate developer mode, see this article: https://docs.microsoft.com/en-us/windows/apps/get-started/enable-your-device-for-development\n",
      "  warnings.warn(message)\n"
     ]
    },
    {
     "data": {
      "application/vnd.jupyter.widget-view+json": {
       "model_id": "ac9a62397e814e39811049e0a4d9ae0f",
       "version_major": 2,
       "version_minor": 0
      },
      "text/plain": [
       "tokenizer_config.json:   0%|          | 0.00/39.0 [00:00<?, ?B/s]"
      ]
     },
     "metadata": {},
     "output_type": "display_data"
    },
    {
     "data": {
      "application/vnd.jupyter.widget-view+json": {
       "model_id": "e558f32d4324446c96de223019d9b76a",
       "version_major": 2,
       "version_minor": 0
      },
      "text/plain": [
       "vocab.txt:   0%|          | 0.00/872k [00:00<?, ?B/s]"
      ]
     },
     "metadata": {},
     "output_type": "display_data"
    },
    {
     "data": {
      "application/vnd.jupyter.widget-view+json": {
       "model_id": "9e59a66af7a249bdb1fa5407091b7f4c",
       "version_major": 2,
       "version_minor": 0
      },
      "text/plain": [
       "special_tokens_map.json:   0%|          | 0.00/112 [00:00<?, ?B/s]"
      ]
     },
     "metadata": {},
     "output_type": "display_data"
    },
    {
     "name": "stderr",
     "output_type": "stream",
     "text": [
      "Device set to use cpu\n"
     ]
    }
   ],
   "source": [
    "# Modelo multilíngue, funciona para PT, EN, ES, etc\n",
    "classifier = pipeline(\n",
    "    \"sentiment-analysis\",\n",
    "    model=\"nlptown/bert-base-multilingual-uncased-sentiment\", \n",
    "    framework=\"pt\"  # força uso do PyTorch\n",
    ")"
   ]
  },
  {
   "cell_type": "code",
   "execution_count": 4,
   "id": "93bc1cc9",
   "metadata": {},
   "outputs": [
    {
     "data": {
      "application/vnd.jupyter.widget-view+json": {
       "model_id": "cfdcf98b69584f7db61567e94c3e0c55",
       "version_major": 2,
       "version_minor": 0
      },
      "text/plain": [
       "  0%|          | 0/10000 [00:00<?, ?it/s]"
      ]
     },
     "metadata": {},
     "output_type": "display_data"
    },
    {
     "data": {
      "text/html": [
       "<div>\n",
       "<style scoped>\n",
       "    .dataframe tbody tr th:only-of-type {\n",
       "        vertical-align: middle;\n",
       "    }\n",
       "\n",
       "    .dataframe tbody tr th {\n",
       "        vertical-align: top;\n",
       "    }\n",
       "\n",
       "    .dataframe thead th {\n",
       "        text-align: right;\n",
       "    }\n",
       "</style>\n",
       "<table border=\"1\" class=\"dataframe\">\n",
       "  <thead>\n",
       "    <tr style=\"text-align: right;\">\n",
       "      <th></th>\n",
       "      <th>cliente</th>\n",
       "      <th>servico</th>\n",
       "      <th>review</th>\n",
       "      <th>sentimento_modelo</th>\n",
       "    </tr>\n",
       "  </thead>\n",
       "  <tbody>\n",
       "    <tr>\n",
       "      <th>0</th>\n",
       "      <td>Cliente_103</td>\n",
       "      <td>Fibra Óptica</td>\n",
       "      <td>Péssimo suporte ao cliente.</td>\n",
       "      <td>1 star</td>\n",
       "    </tr>\n",
       "    <tr>\n",
       "      <th>1</th>\n",
       "      <td>Cliente_180</td>\n",
       "      <td>TV</td>\n",
       "      <td>Ainda estou avaliando o serviço.</td>\n",
       "      <td>4 stars</td>\n",
       "    </tr>\n",
       "    <tr>\n",
       "      <th>2</th>\n",
       "      <td>Cliente_093</td>\n",
       "      <td>Internet</td>\n",
       "      <td>O atendimento poderia ser melhor.</td>\n",
       "      <td>3 stars</td>\n",
       "    </tr>\n",
       "    <tr>\n",
       "      <th>3</th>\n",
       "      <td>Cliente_015</td>\n",
       "      <td>Streaming</td>\n",
       "      <td>Serviço razoável, mas melhorou ultimamente.</td>\n",
       "      <td>3 stars</td>\n",
       "    </tr>\n",
       "    <tr>\n",
       "      <th>4</th>\n",
       "      <td>Cliente_107</td>\n",
       "      <td>Streaming</td>\n",
       "      <td>Equipe super preparada e educada.</td>\n",
       "      <td>5 stars</td>\n",
       "    </tr>\n",
       "  </tbody>\n",
       "</table>\n",
       "</div>"
      ],
      "text/plain": [
       "       cliente       servico                                       review  \\\n",
       "0  Cliente_103  Fibra Óptica                  Péssimo suporte ao cliente.   \n",
       "1  Cliente_180            TV             Ainda estou avaliando o serviço.   \n",
       "2  Cliente_093      Internet            O atendimento poderia ser melhor.   \n",
       "3  Cliente_015     Streaming  Serviço razoável, mas melhorou ultimamente.   \n",
       "4  Cliente_107     Streaming            Equipe super preparada e educada.   \n",
       "\n",
       "  sentimento_modelo  \n",
       "0            1 star  \n",
       "1           4 stars  \n",
       "2           3 stars  \n",
       "3           3 stars  \n",
       "4           5 stars  "
      ]
     },
     "execution_count": 4,
     "metadata": {},
     "output_type": "execute_result"
    }
   ],
   "source": [
    "# Isso pode demorar um pouco se for a primeira vez (download do modelo)\n",
    "tqdm.pandas()\n",
    "df[\"sentimento_modelo\"] = df[\"review\"].progress_apply(lambda x: classifier(x)[0]['label'])\n",
    "df.head()\n"
   ]
  },
  {
   "cell_type": "code",
   "execution_count": 5,
   "id": "d64dfb90",
   "metadata": {},
   "outputs": [
    {
     "data": {
      "text/html": [
       "<div>\n",
       "<style scoped>\n",
       "    .dataframe tbody tr th:only-of-type {\n",
       "        vertical-align: middle;\n",
       "    }\n",
       "\n",
       "    .dataframe tbody tr th {\n",
       "        vertical-align: top;\n",
       "    }\n",
       "\n",
       "    .dataframe thead th {\n",
       "        text-align: right;\n",
       "    }\n",
       "</style>\n",
       "<table border=\"1\" class=\"dataframe\">\n",
       "  <thead>\n",
       "    <tr style=\"text-align: right;\">\n",
       "      <th></th>\n",
       "      <th>cliente</th>\n",
       "      <th>servico</th>\n",
       "      <th>review</th>\n",
       "      <th>sentimento_modelo</th>\n",
       "      <th>sentimento</th>\n",
       "    </tr>\n",
       "  </thead>\n",
       "  <tbody>\n",
       "    <tr>\n",
       "      <th>0</th>\n",
       "      <td>Cliente_103</td>\n",
       "      <td>Fibra Óptica</td>\n",
       "      <td>Péssimo suporte ao cliente.</td>\n",
       "      <td>1 star</td>\n",
       "      <td>Negativo</td>\n",
       "    </tr>\n",
       "    <tr>\n",
       "      <th>1</th>\n",
       "      <td>Cliente_180</td>\n",
       "      <td>TV</td>\n",
       "      <td>Ainda estou avaliando o serviço.</td>\n",
       "      <td>4 stars</td>\n",
       "      <td>Positivo</td>\n",
       "    </tr>\n",
       "    <tr>\n",
       "      <th>2</th>\n",
       "      <td>Cliente_093</td>\n",
       "      <td>Internet</td>\n",
       "      <td>O atendimento poderia ser melhor.</td>\n",
       "      <td>3 stars</td>\n",
       "      <td>Neutro</td>\n",
       "    </tr>\n",
       "    <tr>\n",
       "      <th>3</th>\n",
       "      <td>Cliente_015</td>\n",
       "      <td>Streaming</td>\n",
       "      <td>Serviço razoável, mas melhorou ultimamente.</td>\n",
       "      <td>3 stars</td>\n",
       "      <td>Neutro</td>\n",
       "    </tr>\n",
       "    <tr>\n",
       "      <th>4</th>\n",
       "      <td>Cliente_107</td>\n",
       "      <td>Streaming</td>\n",
       "      <td>Equipe super preparada e educada.</td>\n",
       "      <td>5 stars</td>\n",
       "      <td>Positivo</td>\n",
       "    </tr>\n",
       "  </tbody>\n",
       "</table>\n",
       "</div>"
      ],
      "text/plain": [
       "       cliente       servico                                       review  \\\n",
       "0  Cliente_103  Fibra Óptica                  Péssimo suporte ao cliente.   \n",
       "1  Cliente_180            TV             Ainda estou avaliando o serviço.   \n",
       "2  Cliente_093      Internet            O atendimento poderia ser melhor.   \n",
       "3  Cliente_015     Streaming  Serviço razoável, mas melhorou ultimamente.   \n",
       "4  Cliente_107     Streaming            Equipe super preparada e educada.   \n",
       "\n",
       "  sentimento_modelo sentimento  \n",
       "0            1 star   Negativo  \n",
       "1           4 stars   Positivo  \n",
       "2           3 stars     Neutro  \n",
       "3           3 stars     Neutro  \n",
       "4           5 stars   Positivo  "
      ]
     },
     "execution_count": 5,
     "metadata": {},
     "output_type": "execute_result"
    }
   ],
   "source": [
    "def simplifica_label(label):\n",
    "    # Modelo retorna: '1 star', ..., '5 stars'\n",
    "    if \"1\" in label or \"2\" in label:\n",
    "        return \"Negativo\"\n",
    "    elif \"4\" in label or \"5\" in label:\n",
    "        return \"Positivo\"\n",
    "    else:\n",
    "        return \"Neutro\"\n",
    "\n",
    "df[\"sentimento\"] = df[\"sentimento_modelo\"].apply(simplifica_label)\n",
    "df.head()"
   ]
  },
  {
   "cell_type": "code",
   "execution_count": 6,
   "id": "d82373ea",
   "metadata": {},
   "outputs": [
    {
     "name": "stdout",
     "output_type": "stream",
     "text": [
      "Arquivo salvo em ../data/reviews_sentimentos.csv\n"
     ]
    }
   ],
   "source": [
    "df.to_csv(\"../data/reviews_sentimentos.csv\", index=False)\n",
    "print('Arquivo salvo em ../data/reviews_sentimentos.csv')"
   ]
  },
  {
   "cell_type": "code",
   "execution_count": 7,
   "id": "0ee1bb85",
   "metadata": {},
   "outputs": [
    {
     "data": {
      "text/html": [
       "<div>\n",
       "<style scoped>\n",
       "    .dataframe tbody tr th:only-of-type {\n",
       "        vertical-align: middle;\n",
       "    }\n",
       "\n",
       "    .dataframe tbody tr th {\n",
       "        vertical-align: top;\n",
       "    }\n",
       "\n",
       "    .dataframe thead th {\n",
       "        text-align: right;\n",
       "    }\n",
       "</style>\n",
       "<table border=\"1\" class=\"dataframe\">\n",
       "  <thead>\n",
       "    <tr style=\"text-align: right;\">\n",
       "      <th></th>\n",
       "      <th>cliente</th>\n",
       "      <th>servico</th>\n",
       "      <th>review</th>\n",
       "      <th>sentimento_modelo</th>\n",
       "      <th>sentimento</th>\n",
       "    </tr>\n",
       "  </thead>\n",
       "  <tbody>\n",
       "    <tr>\n",
       "      <th>0</th>\n",
       "      <td>Cliente_103</td>\n",
       "      <td>Fibra Óptica</td>\n",
       "      <td>Péssimo suporte ao cliente.</td>\n",
       "      <td>1 star</td>\n",
       "      <td>Negativo</td>\n",
       "    </tr>\n",
       "    <tr>\n",
       "      <th>1</th>\n",
       "      <td>Cliente_180</td>\n",
       "      <td>TV</td>\n",
       "      <td>Ainda estou avaliando o serviço.</td>\n",
       "      <td>4 stars</td>\n",
       "      <td>Positivo</td>\n",
       "    </tr>\n",
       "    <tr>\n",
       "      <th>2</th>\n",
       "      <td>Cliente_093</td>\n",
       "      <td>Internet</td>\n",
       "      <td>O atendimento poderia ser melhor.</td>\n",
       "      <td>3 stars</td>\n",
       "      <td>Neutro</td>\n",
       "    </tr>\n",
       "    <tr>\n",
       "      <th>3</th>\n",
       "      <td>Cliente_015</td>\n",
       "      <td>Streaming</td>\n",
       "      <td>Serviço razoável, mas melhorou ultimamente.</td>\n",
       "      <td>3 stars</td>\n",
       "      <td>Neutro</td>\n",
       "    </tr>\n",
       "    <tr>\n",
       "      <th>4</th>\n",
       "      <td>Cliente_107</td>\n",
       "      <td>Streaming</td>\n",
       "      <td>Equipe super preparada e educada.</td>\n",
       "      <td>5 stars</td>\n",
       "      <td>Positivo</td>\n",
       "    </tr>\n",
       "  </tbody>\n",
       "</table>\n",
       "</div>"
      ],
      "text/plain": [
       "       cliente       servico                                       review  \\\n",
       "0  Cliente_103  Fibra Óptica                  Péssimo suporte ao cliente.   \n",
       "1  Cliente_180            TV             Ainda estou avaliando o serviço.   \n",
       "2  Cliente_093      Internet            O atendimento poderia ser melhor.   \n",
       "3  Cliente_015     Streaming  Serviço razoável, mas melhorou ultimamente.   \n",
       "4  Cliente_107     Streaming            Equipe super preparada e educada.   \n",
       "\n",
       "  sentimento_modelo sentimento  \n",
       "0            1 star   Negativo  \n",
       "1           4 stars   Positivo  \n",
       "2           3 stars     Neutro  \n",
       "3           3 stars     Neutro  \n",
       "4           5 stars   Positivo  "
      ]
     },
     "execution_count": 7,
     "metadata": {},
     "output_type": "execute_result"
    }
   ],
   "source": [
    "df.head()"
   ]
  }
 ],
 "metadata": {
  "kernelspec": {
   "display_name": "base",
   "language": "python",
   "name": "python3"
  },
  "language_info": {
   "codemirror_mode": {
    "name": "ipython",
    "version": 3
   },
   "file_extension": ".py",
   "mimetype": "text/x-python",
   "name": "python",
   "nbconvert_exporter": "python",
   "pygments_lexer": "ipython3",
   "version": "3.11.7"
  }
 },
 "nbformat": 4,
 "nbformat_minor": 5
}
